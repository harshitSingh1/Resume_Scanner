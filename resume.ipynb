{
 "cells": [
  {
   "cell_type": "code",
   "execution_count": 1,
   "metadata": {},
   "outputs": [],
   "source": [
    "import streamlit as st\n",
    "from dotenv import load_dotenv\n",
    "import os\n",
    "import fitz\n",
    "import google.generativeai as genai\n",
    "import hashlib"
   ]
  },
  {
   "cell_type": "code",
   "execution_count": 2,
   "metadata": {},
   "outputs": [
    {
     "data": {
      "text/plain": [
       "True"
      ]
     },
     "execution_count": 2,
     "metadata": {},
     "output_type": "execute_result"
    }
   ],
   "source": [
    "# Load environment variables\n",
    "load_dotenv()"
   ]
  },
  {
   "cell_type": "code",
   "execution_count": 3,
   "metadata": {},
   "outputs": [],
   "source": [
    "# Configure Google Generative AI\n",
    "genai.configure(api_key=os.getenv(\"GOOGLE_API_KEY\"))"
   ]
  },
  {
   "cell_type": "code",
   "execution_count": 4,
   "metadata": {},
   "outputs": [],
   "source": [
    "# Function to estimate reading time\n",
    "def estimate_reading_time(text):\n",
    "    words_per_minute = 200  # Average reading speed\n",
    "    words = len(text.split())\n",
    "    reading_time = words / words_per_minute\n",
    "    return round(reading_time, 2)"
   ]
  },
  {
   "cell_type": "code",
   "execution_count": 5,
   "metadata": {},
   "outputs": [],
   "source": [
    "# Define prompts for resume evaluation\n",
    "summary_prompt = \"\"\"You are a resume summarizer. You will be provided with the text of a resume\n",
    "and need to summarize its content, highlighting key skills, experiences, and achievements within 250 words.\n",
    "Resume Text: 📝\"\"\"\n",
    "\n",
    "rating_prompt_template = \"\"\"You are an ATS evaluator. You will be provided with the summary of a resume\n",
    "and you need to rate it out of 10 based on relevance to the provided job description.\n",
    "Summary: {summary}\n",
    "Job Description: {job_description}\n",
    "Rating: 📝\"\"\"\n",
    "\n",
    "feedback_prompt_template = \"\"\"You are an ATS evaluator. You will be provided with the summary of a resume\n",
    "and you need to provide constructive feedback on how to improve it.\n",
    "Summary: {summary}\n",
    "Job Description: {job_description}\n",
    "Feedback: 📝\"\"\"\n",
    "\n",
    "question_prompt_template = \"\"\"You are a helpful assistant. You will be provided with the text of a resume\n",
    "and a question. Please provide a clear and concise answer to the question based on the text provided.\n",
    "Resume Text: {resume_text}\n",
    "Question: {question}\n",
    "Answer: 📝\"\"\"\n",
    "\n",
    "comparison_prompt_template = \"\"\"You are a resume comparison assistant. You will be provided with summaries of two resumes\n",
    "and a job description. Please provide a detailed comparison of the two resumes in terms of their suitability for the job.\n",
    "Resume 1 Summary: {summary1}\n",
    "Resume 2 Summary: {summary2}\n",
    "Job Description: {job_description}\n",
    "Comparison Analysis: 📝\"\"\"\n"
   ]
  },
  {
   "cell_type": "code",
   "execution_count": 6,
   "metadata": {},
   "outputs": [],
   "source": [
    "# Function to extract text from PDF\n",
    "def extract_text_from_pdf(file):\n",
    "    try:\n",
    "        doc = fitz.open(stream=file.read(), filetype=\"pdf\")\n",
    "        text = \"\"\n",
    "        for page in doc:\n",
    "            text += page.get_text()\n",
    "        return text\n",
    "    except Exception as e:\n",
    "        raise e"
   ]
  },
  {
   "cell_type": "code",
   "execution_count": 7,
   "metadata": {},
   "outputs": [],
   "source": [
    "# Function to get content from Google Gemini Pro\n",
    "def generate_gemini_content(transcript_text, prompt):\n",
    "    model = genai.GenerativeModel(\"gemini-pro\")\n",
    "    response = model.generate_content(prompt + transcript_text)\n",
    "    return response.text"
   ]
  },
  {
   "cell_type": "code",
   "execution_count": 8,
   "metadata": {},
   "outputs": [],
   "source": [
    "# Function to generate a unique identifier for the PDF\n",
    "def generate_pdf_id(pdf_text):\n",
    "    return hashlib.md5(pdf_text.encode()).hexdigest()"
   ]
  },
  {
   "cell_type": "code",
   "execution_count": 9,
   "metadata": {},
   "outputs": [
    {
     "name": "stderr",
     "output_type": "stream",
     "text": [
      "2024-08-08 14:02:43.906 WARNING streamlit.runtime.state.session_state_proxy: Session state does not function when running a script without `streamlit run`\n"
     ]
    }
   ],
   "source": [
    "# Store Q&A history for PDFs\n",
    "if 'pdf_qa_history' not in st.session_state:\n",
    "    st.session_state.pdf_qa_history = {}"
   ]
  },
  {
   "cell_type": "code",
   "execution_count": 11,
   "metadata": {},
   "outputs": [],
   "source": [
    "# Store Q&A history for compared resumes\n",
    "if 'compare_qa_history' not in st.session_state:\n",
    "    st.session_state.compare_qa_history = {}"
   ]
  },
  {
   "cell_type": "code",
   "execution_count": 12,
   "metadata": {},
   "outputs": [
    {
     "name": "stderr",
     "output_type": "stream",
     "text": [
      "2024-08-08 14:04:42.243 \n",
      "  \u001b[33m\u001b[1mWarning:\u001b[0m to view this Streamlit app on a browser, run it with the following\n",
      "  command:\n",
      "\n",
      "    streamlit run C:\\Users\\avina\\AppData\\Roaming\\Python\\Python312\\site-packages\\ipykernel_launcher.py [ARGUMENTS]\n"
     ]
    }
   ],
   "source": [
    "# Streamlit UI\n",
    "st.title(\"Resume ATS Scanner 📄➡️🔍\")\n",
    "uploaded_file = st.file_uploader(\"Upload a Resume PDF file\", type=\"pdf\")"
   ]
  },
  {
   "cell_type": "code",
   "execution_count": 13,
   "metadata": {},
   "outputs": [],
   "source": [
    "add_job_description = st.checkbox(\"Add Job Description\")\n",
    "job_description = \"\"\n",
    "company_name = \"\"\n",
    "job_post = \"\""
   ]
  },
  {
   "cell_type": "code",
   "execution_count": 14,
   "metadata": {},
   "outputs": [],
   "source": [
    "if add_job_description:\n",
    "    company_name = st.text_input(\"Company Name\")\n",
    "    job_post = st.text_input(\"Job Post\")\n",
    "    job_description = st.text_area(\"Job Description\")"
   ]
  },
  {
   "cell_type": "code",
   "execution_count": 15,
   "metadata": {},
   "outputs": [],
   "source": [
    "if uploaded_file:\n",
    "    # Extract text from PDF\n",
    "    resume_text = extract_text_from_pdf(uploaded_file)\n",
    "\n",
    "    # Generate unique ID for the PDF\n",
    "    resume_id = generate_pdf_id(resume_text)\n",
    "\n",
    "    # Initialize Q&A history for this PDF if not already present\n",
    "    if resume_id not in st.session_state.pdf_qa_history:\n",
    "        st.session_state.pdf_qa_history[resume_id] = {}\n",
    "\n",
    "    # Estimate and display reading time at the top\n",
    "    reading_time = estimate_reading_time(resume_text)\n",
    "    st.markdown(f\"**Estimated Reading Time:** {reading_time} minutes\")\n",
    "\n",
    "    # Define maximum input length for LLM\n",
    "    max_input_length = 2000\n",
    "\n",
    "    # Check if the extracted text exceeds the maximum input length\n",
    "    if len(resume_text) > max_input_length:\n",
    "        resume_text = resume_text[:max_input_length]\n",
    "        st.warning(\"The resume is too long. The text has been truncated to fit within the input limit.\")\n",
    "\n",
    "    # Show a portion of the extracted text\n",
    "    st.markdown(\"## Extracted Text:\")\n",
    "    st.write(resume_text[:1000])  # Display first 1000 characters of the extracted text for reference\n",
    "\n",
    "    if st.button(\"Review Resume 📄\"):\n",
    "        # Generate summary\n",
    "        combined_summary = generate_gemini_content(resume_text, summary_prompt)\n",
    "\n",
    "        st.markdown(\"## Resume Summary:\")\n",
    "        st.write(combined_summary)\n",
    "\n",
    "        # Ask Google Gemini to rate the resume\n",
    "        rating_prompt = rating_prompt_template.format(summary=combined_summary, job_description=job_description)\n",
    "        rating_response = generate_gemini_content(\"\", rating_prompt)\n",
    "        st.markdown(\"## ATS Rating:\")\n",
    "        st.write(rating_response)\n",
    "\n",
    "        # Ask Google Gemini to provide feedback\n",
    "        feedback_prompt = feedback_prompt_template.format(summary=combined_summary, job_description=job_description)\n",
    "        feedback_response = generate_gemini_content(\"\", feedback_prompt)\n",
    "        st.markdown(\"## ATS Feedback:\")\n",
    "        st.write(feedback_response)\n",
    "\n",
    "    # Add a text input for questions\n",
    "    st.markdown(\"## Ask a Question:\")\n",
    "    user_question = st.text_input(\"Enter your question here\")\n",
    "\n",
    "    if user_question:\n",
    "        if user_question in st.session_state.pdf_qa_history[resume_id]:\n",
    "            combined_answer = st.session_state.pdf_qa_history[resume_id][user_question]\n",
    "        else:\n",
    "            question_prompt = question_prompt_template.format(resume_text=resume_text, question=user_question)\n",
    "            combined_answer = generate_gemini_content(\"\", question_prompt)\n",
    "            st.session_state.pdf_qa_history[resume_id][user_question] = combined_answer\n",
    "\n",
    "        st.markdown(\"## Answer:\")\n",
    "        st.write(combined_answer)\n",
    "\n",
    "    # Display previously asked questions and answers for this PDF\n",
    "    if st.session_state.pdf_qa_history[resume_id]:\n",
    "        st.markdown(\"## Previously Asked Questions:\")\n",
    "        for question, answer in st.session_state.pdf_qa_history[resume_id].items():\n",
    "            with st.expander(f\"Question: {question}\"):\n",
    "                st.write(answer)"
   ]
  },
  {
   "cell_type": "code",
   "execution_count": 16,
   "metadata": {},
   "outputs": [],
   "source": [
    "# Optional: Compare multiple resumes\n",
    "st.markdown(\"## Compare Resumes\")\n",
    "uploaded_files = st.file_uploader(\"Upload Resume PDF files for comparison\", type=\"pdf\", accept_multiple_files=True)\n",
    "\n",
    "if uploaded_files:\n",
    "    resume_texts = [extract_text_from_pdf(uploaded_file) for uploaded_file in uploaded_files]\n",
    "    resume_summaries = [generate_gemini_content(resume_text, summary_prompt) for resume_text in resume_texts]\n",
    "    file_names = [uploaded_file.name for uploaded_file in uploaded_files]\n",
    "\n",
    "    if len(uploaded_files) > 1:\n",
    "        resume_options = st.multiselect(\"Select two resumes to compare\", file_names, default=file_names[:2])\n",
    "        if len(resume_options) == 2:\n",
    "            idx1 = file_names.index(resume_options[0])\n",
    "            idx2 = file_names.index(resume_options[1])\n",
    "\n",
    "            if st.button(\"Compare Resumes\"):\n",
    "                summary1 = resume_summaries[idx1]\n",
    "                summary2 = resume_summaries[idx2]\n",
    "                comparison_prompt = comparison_prompt_template.format(summary1=summary1, summary2=summary2, job_description=job_description)\n",
    "                comparison_analysis = generate_gemini_content(\"\", comparison_prompt)\n",
    "\n",
    "                st.markdown(f\"### Comparison of {resume_options[0]} and {resume_options[1]}\")\n",
    "                st.markdown(f\"**Comparison Analysis:** {comparison_analysis}\")\n",
    "\n",
    "                # Store previously asked questions and answers for the compared resumes\n",
    "                combined_resumes_text = \" \".join([resume_texts[idx1], resume_texts[idx2]])\n",
    "                combined_resumes_id = generate_pdf_id(combined_resumes_text)\n",
    "\n",
    "                if combined_resumes_id not in st.session_state.compare_qa_history:\n",
    "                    st.session_state.compare_qa_history[combined_resumes_id] = comparison_analysis\n",
    "                else:\n",
    "                    comparison_analysis = st.session_state.compare_qa_history[combined_resumes_id]\n",
    "\n",
    "                # Display final conclusion in bold\n",
    "                st.markdown(f\"**Final Conclusion:** {comparison_analysis}\")\n",
    "\n",
    "                # Store the comparison result for future reference\n",
    "                st.session_state.compare_qa_history[combined_resumes_id] = comparison_analysis\n"
   ]
  },
  {
   "cell_type": "code",
   "execution_count": null,
   "metadata": {},
   "outputs": [],
   "source": []
  }
 ],
 "metadata": {
  "kernelspec": {
   "display_name": "Python 3",
   "language": "python",
   "name": "python3"
  },
  "language_info": {
   "codemirror_mode": {
    "name": "ipython",
    "version": 3
   },
   "file_extension": ".py",
   "mimetype": "text/x-python",
   "name": "python",
   "nbconvert_exporter": "python",
   "pygments_lexer": "ipython3",
   "version": "3.12.2"
  }
 },
 "nbformat": 4,
 "nbformat_minor": 2
}
